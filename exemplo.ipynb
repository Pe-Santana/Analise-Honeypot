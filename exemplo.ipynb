{
 "cells": [
  {
   "cell_type": "code",
   "execution_count": null,
   "id": "f53e9208",
   "metadata": {},
   "outputs": [],
   "source": [
    "from analise_honeypot import *\n",
    "\n",
    "path = r'./diretorio_logs'\n",
    "#path_alternativo = r'./diretorio_logs_alterativo"
   ]
  },
  {
   "cell_type": "markdown",
   "id": "a9b70387",
   "metadata": {},
   "source": [
    "Chamada de função para corrigir o conteúdo do diretório"
   ]
  },
  {
   "cell_type": "code",
   "execution_count": null,
   "id": "70df88de",
   "metadata": {},
   "outputs": [
    {
     "data": {
      "text/html": [
       "<div>\n",
       "<style scoped>\n",
       "    .dataframe tbody tr th:only-of-type {\n",
       "        vertical-align: middle;\n",
       "    }\n",
       "\n",
       "    .dataframe tbody tr th {\n",
       "        vertical-align: top;\n",
       "    }\n",
       "\n",
       "    .dataframe thead th {\n",
       "        text-align: right;\n",
       "    }\n",
       "</style>\n",
       "<table border=\"1\" class=\"dataframe\">\n",
       "  <thead>\n",
       "    <tr style=\"text-align: right;\">\n",
       "      <th></th>\n",
       "      <th>ip</th>\n",
       "      <th>data</th>\n",
       "      <th>metodo</th>\n",
       "      <th>url</th>\n",
       "      <th>status</th>\n",
       "      <th>tamanho</th>\n",
       "      <th>user_agent</th>\n",
       "      <th>source</th>\n",
       "    </tr>\n",
       "  </thead>\n",
       "  <tbody>\n",
       "    <tr>\n",
       "      <th>0</th>\n",
       "      <td>46.19.143.26</td>\n",
       "      <td>2025-01-26 01:07:59+00:00</td>\n",
       "      <td>GET</td>\n",
       "      <td>/</td>\n",
       "      <td>200</td>\n",
       "      <td>1742</td>\n",
       "      <td>-</td>\n",
       "      <td>logs-honeycam-frankfurt</td>\n",
       "    </tr>\n",
       "    <tr>\n",
       "      <th>1</th>\n",
       "      <td>203.17.23.194</td>\n",
       "      <td>2025-01-26 01:40:25+00:00</td>\n",
       "      <td>GET</td>\n",
       "      <td>/</td>\n",
       "      <td>200</td>\n",
       "      <td>1742</td>\n",
       "      <td>Mozilla/5.0 (Windows NT 6.1; WOW64) AppleWebKi...</td>\n",
       "      <td>logs-honeycam-frankfurt</td>\n",
       "    </tr>\n",
       "    <tr>\n",
       "      <th>2</th>\n",
       "      <td>48.217.212.200</td>\n",
       "      <td>2025-01-26 01:59:38+00:00</td>\n",
       "      <td>GET</td>\n",
       "      <td>/actuator/health</td>\n",
       "      <td>302</td>\n",
       "      <td>331</td>\n",
       "      <td>Mozilla/5.0 zgrab/0.x</td>\n",
       "      <td>logs-honeycam-frankfurt</td>\n",
       "    </tr>\n",
       "    <tr>\n",
       "      <th>3</th>\n",
       "      <td>146.19.24.168</td>\n",
       "      <td>2025-01-26 02:10:21+00:00</td>\n",
       "      <td>GET</td>\n",
       "      <td>/</td>\n",
       "      <td>200</td>\n",
       "      <td>1742</td>\n",
       "      <td>-</td>\n",
       "      <td>logs-honeycam-frankfurt</td>\n",
       "    </tr>\n",
       "    <tr>\n",
       "      <th>4</th>\n",
       "      <td>46.19.143.26</td>\n",
       "      <td>2025-01-26 02:24:47+00:00</td>\n",
       "      <td>GET</td>\n",
       "      <td>/</td>\n",
       "      <td>200</td>\n",
       "      <td>1742</td>\n",
       "      <td>-</td>\n",
       "      <td>logs-honeycam-frankfurt</td>\n",
       "    </tr>\n",
       "    <tr>\n",
       "      <th>...</th>\n",
       "      <td>...</td>\n",
       "      <td>...</td>\n",
       "      <td>...</td>\n",
       "      <td>...</td>\n",
       "      <td>...</td>\n",
       "      <td>...</td>\n",
       "      <td>...</td>\n",
       "      <td>...</td>\n",
       "    </tr>\n",
       "    <tr>\n",
       "      <th>40934</th>\n",
       "      <td>168.76.20.229</td>\n",
       "      <td>2025-01-27 23:40:35+00:00</td>\n",
       "      <td>GET</td>\n",
       "      <td>/</td>\n",
       "      <td>200</td>\n",
       "      <td>966</td>\n",
       "      <td>Mozilla/5.0 (Windows NT 6.1; WOW64) AppleWebKi...</td>\n",
       "      <td>logs-honeycam-tokyo</td>\n",
       "    </tr>\n",
       "    <tr>\n",
       "      <th>40935</th>\n",
       "      <td>168.76.20.229</td>\n",
       "      <td>2025-01-27 23:40:35+00:00</td>\n",
       "      <td>GET</td>\n",
       "      <td>/robots.txt</td>\n",
       "      <td>302</td>\n",
       "      <td>350</td>\n",
       "      <td>Mozilla/5.0 (Windows NT 6.1; WOW64) AppleWebKi...</td>\n",
       "      <td>logs-honeycam-tokyo</td>\n",
       "    </tr>\n",
       "    <tr>\n",
       "      <th>40936</th>\n",
       "      <td>168.76.20.229</td>\n",
       "      <td>2025-01-27 23:40:40+00:00</td>\n",
       "      <td>GET</td>\n",
       "      <td>/js/brand.js</td>\n",
       "      <td>200</td>\n",
       "      <td>533</td>\n",
       "      <td>Mozilla/5.0 (Windows NT 6.1; WOW64) AppleWebKi...</td>\n",
       "      <td>logs-honeycam-tokyo</td>\n",
       "    </tr>\n",
       "    <tr>\n",
       "      <th>40937</th>\n",
       "      <td>168.76.20.229</td>\n",
       "      <td>2025-01-27 23:40:40+00:00</td>\n",
       "      <td>GET</td>\n",
       "      <td>/js/login.js</td>\n",
       "      <td>200</td>\n",
       "      <td>885</td>\n",
       "      <td>Mozilla/5.0 (Windows NT 6.1; WOW64) AppleWebKi...</td>\n",
       "      <td>logs-honeycam-tokyo</td>\n",
       "    </tr>\n",
       "    <tr>\n",
       "      <th>40938</th>\n",
       "      <td>87.120.115.34</td>\n",
       "      <td>2025-01-27 23:54:52+00:00</td>\n",
       "      <td>GET</td>\n",
       "      <td>/_profiler/phpinfo</td>\n",
       "      <td>302</td>\n",
       "      <td>350</td>\n",
       "      <td>Mozilla/5.0 (Macintosh; Intel Mac OS X 10_15_7...</td>\n",
       "      <td>logs-honeycam-tokyo</td>\n",
       "    </tr>\n",
       "  </tbody>\n",
       "</table>\n",
       "<p>40939 rows × 8 columns</p>\n",
       "</div>"
      ],
      "text/plain": [
       "                   ip                      data metodo                 url  \\\n",
       "0        46.19.143.26 2025-01-26 01:07:59+00:00    GET                   /   \n",
       "1       203.17.23.194 2025-01-26 01:40:25+00:00    GET                   /   \n",
       "2      48.217.212.200 2025-01-26 01:59:38+00:00    GET    /actuator/health   \n",
       "3       146.19.24.168 2025-01-26 02:10:21+00:00    GET                   /   \n",
       "4        46.19.143.26 2025-01-26 02:24:47+00:00    GET                   /   \n",
       "...               ...                       ...    ...                 ...   \n",
       "40934   168.76.20.229 2025-01-27 23:40:35+00:00    GET                   /   \n",
       "40935   168.76.20.229 2025-01-27 23:40:35+00:00    GET         /robots.txt   \n",
       "40936   168.76.20.229 2025-01-27 23:40:40+00:00    GET        /js/brand.js   \n",
       "40937   168.76.20.229 2025-01-27 23:40:40+00:00    GET        /js/login.js   \n",
       "40938   87.120.115.34 2025-01-27 23:54:52+00:00    GET  /_profiler/phpinfo   \n",
       "\n",
       "      status tamanho                                         user_agent  \\\n",
       "0        200    1742                                                  -   \n",
       "1        200    1742  Mozilla/5.0 (Windows NT 6.1; WOW64) AppleWebKi...   \n",
       "2        302     331                              Mozilla/5.0 zgrab/0.x   \n",
       "3        200    1742                                                  -   \n",
       "4        200    1742                                                  -   \n",
       "...      ...     ...                                                ...   \n",
       "40934    200     966  Mozilla/5.0 (Windows NT 6.1; WOW64) AppleWebKi...   \n",
       "40935    302     350  Mozilla/5.0 (Windows NT 6.1; WOW64) AppleWebKi...   \n",
       "40936    200     533  Mozilla/5.0 (Windows NT 6.1; WOW64) AppleWebKi...   \n",
       "40937    200     885  Mozilla/5.0 (Windows NT 6.1; WOW64) AppleWebKi...   \n",
       "40938    302     350  Mozilla/5.0 (Macintosh; Intel Mac OS X 10_15_7...   \n",
       "\n",
       "                        source  \n",
       "0      logs-honeycam-frankfurt  \n",
       "1      logs-honeycam-frankfurt  \n",
       "2      logs-honeycam-frankfurt  \n",
       "3      logs-honeycam-frankfurt  \n",
       "4      logs-honeycam-frankfurt  \n",
       "...                        ...  \n",
       "40934      logs-honeycam-tokyo  \n",
       "40935      logs-honeycam-tokyo  \n",
       "40936      logs-honeycam-tokyo  \n",
       "40937      logs-honeycam-tokyo  \n",
       "40938      logs-honeycam-tokyo  \n",
       "\n",
       "[40939 rows x 8 columns]"
      ]
     },
     "execution_count": 2,
     "metadata": {},
     "output_type": "execute_result"
    }
   ],
   "source": [
    "df1= log_df(path)\n"
   ]
  },
  {
   "cell_type": "markdown",
   "id": "bd6347f8",
   "metadata": {},
   "source": [
    "Caso utilize mais de um experimento honeypot, replicar as funções para tratar arquivos e criar dataframe"
   ]
  },
  {
   "cell_type": "code",
   "execution_count": null,
   "id": "1a843545",
   "metadata": {},
   "outputs": [],
   "source": [
    "\n",
    "#trata_arq(path_alternativo)\n",
    "#df2 = cria_df(path_alternativo)"
   ]
  },
  {
   "cell_type": "markdown",
   "id": "c5f5edb4",
   "metadata": {},
   "source": [
    "Exibe gráfico de linha com os acessos diários de um IP específico, separados por honeypot.\n"
   ]
  },
  {
   "cell_type": "code",
   "execution_count": null,
   "id": "97e5ef59",
   "metadata": {},
   "outputs": [],
   "source": [
    "ip_dia(df1,'000.000.00.00')"
   ]
  },
  {
   "cell_type": "markdown",
   "id": "04413a60",
   "metadata": {},
   "source": [
    "Exibe gráfico de barras com a frequência de acessos por dia.\n"
   ]
  },
  {
   "cell_type": "code",
   "execution_count": null,
   "id": "b6ba6895",
   "metadata": {},
   "outputs": [],
   "source": [
    "acesso_dia(df1)\n",
    "#acesso_dia(df1,df2)"
   ]
  },
  {
   "cell_type": "markdown",
   "id": "22deb75c",
   "metadata": {},
   "source": [
    "Exibe gráfico de pizza com a distribuição de entradas por fonte (honeypot)."
   ]
  },
  {
   "cell_type": "code",
   "execution_count": null,
   "id": "28220c66",
   "metadata": {},
   "outputs": [],
   "source": [
    "acesso_fonte(df1)\n",
    "#acesso_fonte(df1,df2)"
   ]
  },
  {
   "cell_type": "markdown",
   "id": "1ad1dcc6",
   "metadata": {},
   "source": [
    "Exibe gráfico de barras com os 5 IPs que mais acessaram os honeypots."
   ]
  },
  {
   "cell_type": "code",
   "execution_count": null,
   "id": "625a3d4c",
   "metadata": {},
   "outputs": [],
   "source": [
    "\n",
    "top_ips(df1)\n",
    "top_ips(df1,df2)"
   ]
  }
 ],
 "metadata": {
  "kernelspec": {
   "display_name": "Python 3",
   "language": "python",
   "name": "python3"
  },
  "language_info": {
   "codemirror_mode": {
    "name": "ipython",
    "version": 3
   },
   "file_extension": ".py",
   "mimetype": "text/x-python",
   "name": "python",
   "nbconvert_exporter": "python",
   "pygments_lexer": "ipython3",
   "version": "3.11.3"
  }
 },
 "nbformat": 4,
 "nbformat_minor": 5
}
