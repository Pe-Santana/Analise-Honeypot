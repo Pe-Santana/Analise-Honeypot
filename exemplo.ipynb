{
 "cells": [
  {
   "cell_type": "code",
   "execution_count": null,
   "id": "f53e9208",
   "metadata": {},
   "outputs": [],
   "source": [
    "from analise_honeypot import *\n",
    "\n",
    "path = r'./diretorio_logs'\n",
    "\n",
    "#path_alternativo = r'./diretorio_logs_alterativo"
   ]
  },
  {
   "cell_type": "markdown",
   "id": "a9b70387",
   "metadata": {},
   "source": [
    "Chamada de função para corrigir o conteúdo do diretório"
   ]
  },
  {
   "cell_type": "code",
   "execution_count": null,
   "id": "70df88de",
   "metadata": {},
   "outputs": [],
   "source": [
    "trata_arq(path)\n",
    "\n",
    "df1 = cria_df(path)\n"
   ]
  },
  {
   "cell_type": "markdown",
   "id": "bd6347f8",
   "metadata": {},
   "source": [
    "Caso utilize mais de um experimento honeypot, replicar as funções para tratar arquivos e criar dataframe"
   ]
  },
  {
   "cell_type": "code",
   "execution_count": null,
   "id": "1a843545",
   "metadata": {},
   "outputs": [],
   "source": [
    "\n",
    "#trata_arq(path_alternativo)\n",
    "#df2 = cria_df(path_alternativo)"
   ]
  },
  {
   "cell_type": "markdown",
   "id": "c5f5edb4",
   "metadata": {},
   "source": [
    "Exibe gráfico de linha com os acessos diários de um IP específico, separados por honeypot.\n"
   ]
  },
  {
   "cell_type": "code",
   "execution_count": null,
   "id": "97e5ef59",
   "metadata": {},
   "outputs": [],
   "source": [
    "ip_dia(df1,'000.000.00.00')"
   ]
  },
  {
   "cell_type": "markdown",
   "id": "04413a60",
   "metadata": {},
   "source": [
    "Exibe gráfico de barras com a frequência de acessos por dia.\n"
   ]
  },
  {
   "cell_type": "code",
   "execution_count": null,
   "id": "b6ba6895",
   "metadata": {},
   "outputs": [],
   "source": [
    "acesso_dia(df1)\n",
    "#acesso_dia(df1,df2)"
   ]
  },
  {
   "cell_type": "markdown",
   "id": "22deb75c",
   "metadata": {},
   "source": [
    "Exibe gráfico de pizza com a distribuição de entradas por fonte (honeypot)."
   ]
  },
  {
   "cell_type": "code",
   "execution_count": null,
   "id": "28220c66",
   "metadata": {},
   "outputs": [],
   "source": [
    "acesso_fonte(df1)\n",
    "#acesso_fonte(df1,df2)"
   ]
  },
  {
   "cell_type": "markdown",
   "id": "1ad1dcc6",
   "metadata": {},
   "source": [
    "Exibe gráfico de barras com os 5 IPs que mais acessaram os honeypots."
   ]
  },
  {
   "cell_type": "code",
   "execution_count": null,
   "id": "625a3d4c",
   "metadata": {},
   "outputs": [],
   "source": [
    "\n",
    "top_ips(df1)\n",
    "top_ips(df1,df2)"
   ]
  }
 ],
 "metadata": {
  "language_info": {
   "name": "python"
  }
 },
 "nbformat": 4,
 "nbformat_minor": 5
}
